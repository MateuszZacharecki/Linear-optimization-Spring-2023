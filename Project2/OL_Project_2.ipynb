{
 "cells": [
  {
   "cell_type": "markdown",
   "id": "85520ab2",
   "metadata": {},
   "source": [
    "Mateusz Zacharecki, 430263"
   ]
  },
  {
   "cell_type": "markdown",
   "id": "026634b0",
   "metadata": {},
   "source": [
    "# Temat 2. Małpia układanka."
   ]
  },
  {
   "cell_type": "markdown",
   "id": "bac9ee54",
   "metadata": {},
   "source": [
    "Poniższe rozwiązanie jest rozwiązaniem małpiej układanki w wersji dla gry Eternity II dla układanki $6 \\times 6$ przedstawionej w opisie tematu projektu, przy użyciu technik optymalizacji liniowej."
   ]
  },
  {
   "cell_type": "markdown",
   "id": "489039df",
   "metadata": {},
   "source": [
    "Okazuje się, że rozwiązanie tego problemu można sprowadzić do rozwiązania problemu programowania całkowitoliczbowego, co zostało zastosowane w tym projekcie. Uwaga techniczna jest taka, że w zadaniu będziemy indeksować od zera. Nasza układanka jest wymiarów $6 \\times 6$, co oznacza, że mamy łącznie 36 kafelków, które będziemy musieli w odpowiedni sposób ułożyć. Kafelki będziemy oznaczać za pomocą indeksu $t=0,\\dots,35$. Kafelki będziemy odczytywać z obrazka w moodle przedstawiającego nasz problem w chwili początkowej i będą one oznaczane kolejno czytając wierszami, tzn. przykładowo kafelek w pierwszym wierszu i pierwszej kolumnie (indeksując od zera) przyjmuje $t=7$. Indeksy $r=0,\\dots,5$ i $c=0,\\dots,5$ będą wskazywać odpowiednio wiersze i columny w układance. Indeks $a=0,1,2,3$ będzie oznaczać ułożenie kafelka $t$. $a=0$ będzie oznaczać kafelek, który nie został obrócony. $a=1$ będzie wskazywał na to, że kafelek jest obrócony o $90^{\\circ}$, zgodnie ze wskazówkami zegara. Z kolei $a=2$ i $a=3$ będzie oznaczać, że kafelek jest obrócony o odpowiednio $180^{\\circ}$ i $270^{\\circ}$ według wskazówek zegara."
   ]
  },
  {
   "cell_type": "markdown",
   "id": "522b20f0",
   "metadata": {},
   "source": [
    "Współczynnikami przy zmiennych będą $CT_{t,a,l}, CB_{t,a,l}, CL_{t,a,l}, CR_{t,a,l}$ i każdy z tych współczynników będzie przyjmował $1$, gdy kafelek $t$ ma kolor $l$ w jego odpowiednio górnym, dolnym, lewem, prawym trójkąciku po obróceniu o $a$, w przeciwnym przypadku współczynniki będą przyjmować $0$."
   ]
  },
  {
   "cell_type": "markdown",
   "id": "d1f41d9c",
   "metadata": {},
   "source": [
    "W naszej układance mamy $7$ rodzajów pokolorowanych trójkącików oraz $1$ trójkącik niepokolorowany. Przez $l=0$ będziemy oznaczać trójkącik niepokolorowany. Z kolei $l=1,2,3,4,5,6,7$ będą wskazywać na to, że trójkącik jest pokolorowany. Kolory będą rozróżniane według legendy:\n",
    "\n",
    "$1$ - fioletowy\n",
    "\n",
    "$2$ - żółty\n",
    "\n",
    "$3$ - różowy z żółtym wzorkiem\n",
    "\n",
    "$4$ - pomarańczowy\n",
    "\n",
    "$5$ - zielony\n",
    "\n",
    "$6$ - granatowy\n",
    "\n",
    "$7$ - różowy z niebieskim wzorkiem"
   ]
  },
  {
   "cell_type": "markdown",
   "id": "72fbea37",
   "metadata": {},
   "source": [
    "Współczynniki będą reprezentowane za pomocą trójwymiarowej tablicy, która dla indeksów $t,a,l$ będzie przyjmować $1$ bądź $0$, zgodnie z warunkami na współczynniki. Współczynniki odczytujemy odpowiednio z obrazka z opisu projektu w moodle - jest to nasza układanka (nasz problem) w ułożeniu startowym."
   ]
  },
  {
   "cell_type": "markdown",
   "id": "1868d336",
   "metadata": {},
   "source": [
    "Będziemy mieli także $3$ rodzaje zmiennych. I tak zmienne $x_{t,r,c,a}$ będą przyjmować $1$, gdy kafelek $t$ znajduje się w $r$-tym wierszu i w $c$-tej kolumnie po obrocie o $a$ oraz $0$ w przeciwnym przypadku. Zmienne $h_{r,c}$ będą przyjmować $1$, gdy prawa krawędź kafelka znajdującego się w $r$-tym wierszu i w $c$-tej kolumnie jest dopasowana z lewą krawędzią kafelka znajdującego się w $r$-tym wierszu i w $c+1$-tej kolumnie oraz $0$ w przeciwnym przypadku. Z kolei zmienne $v_{r,c}$ będą przyjmować $1$, gdy dolna krawędź kafelka znajdującego się w $r$-tym wierszu i w $c$-tej kolumnie jest dopasowana z górną krawędzią kafelka znajdującego się w $r+1$-tym wierszu i w $c$-tej kolumnie oraz $0$ w przeciwnym przypadku. Nasze zmienne jak widać są binarne, co wskazuje na to, że rozwiązanie będzie się opierać na programowaniu całkowitoliczbowym."
   ]
  },
  {
   "cell_type": "markdown",
   "id": "71f21c0d",
   "metadata": {},
   "source": [
    "W zadaniu funkcją, którą będziemy minimalizować jest:\n",
    "$$\\sum_{r=0}^5 \\sum_{c=0}^4 h_{r,c} + \\sum_{r=0}^4 \\sum_{c=0}^5 v_{r,c} \\rightarrow min$$\n",
    "\n",
    "Będziemy więc chcieli docelowo otrzymać, że $\\forall r,c h_{r,c}, v_{r,c} = 0$, co będzie oznaczać, że w układance nie ma żadnych niedopasowanych krawędzi, czyli że każde dwa trójkąciki przy tej samej krawędzi są tego samego koloru."
   ]
  },
  {
   "cell_type": "markdown",
   "id": "d9d9824b",
   "metadata": {},
   "source": [
    "Mamy następujące ograniczenia:\n",
    "\n",
    "$$\\sum_{r=0}^5 \\sum_{c=0}^5 \\sum_{a=0}^3 x_{t,r,c,a} = 1\\ \\forall t = 0,\\dots,35$$\n",
    "\n",
    "Warunek ten mówi, że każdy kafelek w układance ma wystąpić w układance dokładnie raz.\n",
    "\n",
    "$$\\sum_{t=0}^{35} \\sum_{a=0}^3 x_{t,r,c,a} = 1\\ \\forall r = 0,\\dots,5,\\ c = 0,\\dots,5$$\n",
    "\n",
    "Warunek ten mówi, że na każdej pozycji musi się znaleźć kafelek.\n",
    "\n",
    "$$\\sum_{t=0}^{35} \\sum_{a=0}^3 CR_{t,a,l} x_{t,r,c,a} - \\sum_{t=0}^{35} \\sum_{a=0}^3 CL_{t,a,l} x_{t,r,c+1,a} \\leq h_{r,c}\\ \\forall r=0,\\dots,5,\\ c = 0,\\dots,4,\\ l=0,\\dots,7 $$\n",
    "\n",
    "$$- \\sum_{t=0}^{35} \\sum_{a=0}^3 CR_{t,a,l} x_{t,r,c,a} + \\sum_{t=0}^{35} \\sum_{a=0}^3 CL_{t,a,l} x_{t,r,c+1,a} \\leq h_{r,c}\\ \\forall r=0,\\dots,5,\\ c = 0,\\dots,4,\\ l=0,\\dots,7 $$\n",
    "\n",
    "Powyższe dwa warunki gwarantują nam, że $h_{r,c}$ będzie przyjmować $1$, gdy prawy trójkącik w kafelku na pozycji $(r,c)$ jest różny od lewego trójkącika w kafelku na pozycji $(r,c+1)$. Z postaci funkcji, którą minimalizujemy, będziemy chcieli, by $h_{r,c} = 0$, co z kolei może mieć tylko miejsce, gdy trójkąciki są dopasowane.\n",
    "\n",
    "$$\\sum_{t=0}^{35} \\sum_{a=0}^3 CB_{t,a,l} x_{t,r,c,a} - \\sum_{t=0}^{35} \\sum_{a=0}^3 CT_{t,a,l} x_{t,r+1,c,a} \\leq v_{r,c}\\ \\forall r=0,\\dots,4,\\ c = 0,\\dots,5,\\ l=0,\\dots,7 $$\n",
    "\n",
    "$$- \\sum_{t=0}^{35} \\sum_{a=0}^3 CB_{t,a,l} x_{t,r,c,a} + \\sum_{t=0}^{35} \\sum_{a=0}^3 CT_{t,a,l} x_{t,r+1,c,a} \\leq v_{r,c}\\ \\forall r=0,\\dots,4,\\ c = 0,\\dots,5,\\ l=0,\\dots,7 $$\n",
    "\n",
    "Powyższe dwa warunki gwarantują nam, że $v_{r,c}$ będzie przyjmować $1$, gdy dolny trójkącik w kafelku na pozycji $(r,c)$ jest różny od górnego trójkącika w kafelku na pozycji $(r+1,c)$. Z postaci funkcji, którą minimalizujemy, będziemy chcieli, by $v_{r,c} = 0$, co z kolei może mieć tylko miejsce, gdy trójkąciki są dopasowane.\n",
    "\n",
    "$$\\sum_{t=0}^{35} \\sum_{a=0}^3 CT_{t,a,0} \\cdot x_{t,0,c,a} = 1\\ \\forall c = 0,\\dots,5$$\n",
    "\n",
    "$$\\sum_{t=0}^{35} \\sum_{a=0}^3 CB_{t,a,0} \\cdot x_{t,5,c,a} = 1\\ \\forall c = 0,\\dots,5$$\n",
    "\n",
    "$$\\sum_{t=0}^{35} \\sum_{a=0}^3 CL_{t,a,0} \\cdot x_{t,r,0,a} = 1\\ \\forall r = 0,\\dots,5$$\n",
    "\n",
    "$$\\sum_{t=0}^{35} \\sum_{a=0}^3 CR_{t,a,0} \\cdot x_{t,r,5,a} = 1\\ \\forall r = 0,\\dots,5$$\n",
    "\n",
    "Powyższe 4 warunki gwarantują, że na brzegach układanki będziemy mieć niepokolorowane trójkąciki."
   ]
  },
  {
   "cell_type": "markdown",
   "id": "a7c9996e",
   "metadata": {},
   "source": [
    "Warunki na zmienne są naturalne, jako że zmienne są binarne:\n",
    "\n",
    "$$x_{t,r,c,a} \\in \\{0,1\\}\\ \\forall t=0,\\dots,35,\\ r=0,\\dots,5,\\ c=0\\dots,5,\\ a=0,\\dots,3$$\n",
    "\n",
    "$$h_{r,c} \\in \\{0,1\\}\\ \\forall r=0,\\dots,5,\\ c=0\\dots,5$$\n",
    "\n",
    "$$v_{r,c} \\in \\{0,1\\}\\ \\forall r=0,\\dots,5,\\ c=0\\dots,5$$"
   ]
  },
  {
   "cell_type": "markdown",
   "id": "1654348f",
   "metadata": {},
   "source": [
    "W rozwiązaniu skorzystałem z klasy MixedIntegerLinearProgram. Sposób i kroki poniższego rozwiązania są dokładnie takie jak w powyższym opisie, kolejność jest zachowana."
   ]
  },
  {
   "cell_type": "code",
   "execution_count": 1,
   "id": "5e87646e",
   "metadata": {},
   "outputs": [],
   "source": [
    "lp = MixedIntegerLinearProgram(maximization = False)"
   ]
  },
  {
   "cell_type": "code",
   "execution_count": 2,
   "id": "7555989d",
   "metadata": {},
   "outputs": [],
   "source": [
    "CT = [[[0,1,0,0,0,0,0,0],[0,0,0,1,0,0,0,0],[0,0,1,0,0,0,0,0],[0,1,0,0,0,0,0,0]],\n",
    "      [[0,1,0,0,0,0,0,0],[0,0,1,0,0,0,0,0],[0,1,0,0,0,0,0,0],[0,0,1,0,0,0,0,0]],\n",
    "      [[1,0,0,0,0,0,0,0],[0,0,0,0,1,0,0,0],[0,0,1,0,0,0,0,0],[0,0,0,0,0,1,0,0]],\n",
    "      [[0,0,1,0,0,0,0,0],[0,1,0,0,0,0,0,0],[0,0,1,0,0,0,0,0],[0,1,0,0,0,0,0,0]],\n",
    "      [[0,1,0,0,0,0,0,0],[0,1,0,0,0,0,0,0],[0,0,1,0,0,0,0,0],[0,0,1,0,0,0,0,0]],\n",
    "      [[0,0,1,0,0,0,0,0],[0,0,1,0,0,0,0,0],[0,1,0,0,0,0,0,0],[0,1,0,0,0,0,0,0]],\n",
    "      [[0,0,1,0,0,0,0,0],[0,0,0,0,0,0,0,1],[1,0,0,0,0,0,0,0],[0,0,0,0,0,1,0,0]],\n",
    "      [[0,0,1,0,0,0,0,0],[0,1,0,0,0,0,0,0],[0,0,1,0,0,0,0,0],[0,0,1,0,0,0,0,0]],\n",
    "      [[0,0,1,0,0,0,0,0],[0,1,0,0,0,0,0,0],[0,0,0,1,0,0,0,0],[0,1,0,0,0,0,0,0]],\n",
    "      [[0,0,0,0,1,0,0,0],[1,0,0,0,0,0,0,0],[0,0,0,0,0,0,0,1],[0,1,0,0,0,0,0,0]],\n",
    "      [[0,0,0,1,0,0,0,0],[0,0,0,1,0,0,0,0],[0,1,0,0,0,0,0,0],[0,1,0,0,0,0,0,0]],\n",
    "      [[0,0,1,0,0,0,0,0],[0,0,0,0,1,0,0,0],[1,0,0,0,0,0,0,0],[0,0,0,0,0,0,1,0]],\n",
    "      [[0,1,0,0,0,0,0,0],[0,0,0,0,1,0,0,0],[1,0,0,0,0,0,0,0],[0,0,0,0,0,0,1,0]],\n",
    "      [[0,0,0,0,0,0,0,1],[1,0,0,0,0,0,0,0],[0,0,0,0,0,0,0,1],[0,1,0,0,0,0,0,0]],\n",
    "      [[0,0,1,0,0,0,0,0],[0,1,0,0,0,0,0,0],[0,1,0,0,0,0,0,0],[0,1,0,0,0,0,0,0]],\n",
    "      [[0,0,0,0,0,1,0,0],[1,0,0,0,0,0,0,0],[1,0,0,0,0,0,0,0],[0,0,0,0,0,1,0,0]],\n",
    "      [[0,0,1,0,0,0,0,0],[0,1,0,0,0,0,0,0],[0,1,0,0,0,0,0,0],[0,1,0,0,0,0,0,0]],\n",
    "      [[0,0,1,0,0,0,0,0],[0,0,1,0,0,0,0,0],[0,1,0,0,0,0,0,0],[0,1,0,0,0,0,0,0]],\n",
    "      [[0,0,1,0,0,0,0,0],[0,0,0,0,0,0,1,0],[1,0,0,0,0,0,0,0],[0,0,0,0,1,0,0,0]],\n",
    "      [[0,0,1,0,0,0,0,0],[0,1,0,0,0,0,0,0],[0,0,0,1,0,0,0,0],[0,0,1,0,0,0,0,0]],\n",
    "      [[0,0,0,0,0,0,0,1],[0,0,0,0,0,1,0,0],[1,0,0,0,0,0,0,0],[1,0,0,0,0,0,0,0]],\n",
    "      [[1,0,0,0,0,0,0,0],[1,0,0,0,0,0,0,0],[0,0,0,0,0,0,1,0],[0,0,0,0,0,0,0,1]],\n",
    "      [[1,0,0,0,0,0,0,0],[0,0,0,0,0,1,0,0],[0,0,0,0,0,1,0,0],[1,0,0,0,0,0,0,0]],\n",
    "      [[0,0,0,0,1,0,0,0],[1,0,0,0,0,0,0,0],[0,0,0,0,1,0,0,0],[0,0,1,0,0,0,0,0]],\n",
    "      [[0,0,1,0,0,0,0,0],[0,0,1,0,0,0,0,0],[0,1,0,0,0,0,0,0],[0,0,1,0,0,0,0,0]],\n",
    "      [[0,0,0,0,0,1,0,0],[1,0,0,0,0,0,0,0],[0,0,0,0,0,0,1,0],[0,0,1,0,0,0,0,0]],\n",
    "      [[0,0,0,0,0,0,1,0],[1,0,0,0,0,0,0,0],[0,0,0,0,1,0,0,0],[0,1,0,0,0,0,0,0]],\n",
    "      [[1,0,0,0,0,0,0,0],[0,0,0,0,0,0,0,1],[0,0,1,0,0,0,0,0],[0,0,0,0,1,0,0,0]],\n",
    "      [[0,0,1,0,0,0,0,0],[0,1,0,0,0,0,0,0],[0,0,0,1,0,0,0,0],[0,1,0,0,0,0,0,0]],\n",
    "      [[0,1,0,0,0,0,0,0],[0,0,0,1,0,0,0,0],[0,0,1,0,0,0,0,0],[0,0,1,0,0,0,0,0]],\n",
    "      [[0,0,0,0,0,0,1,0],[1,0,0,0,0,0,0,0],[0,0,0,0,0,0,0,1],[0,0,1,0,0,0,0,0]],\n",
    "      [[0,0,0,0,0,0,0,1],[1,0,0,0,0,0,0,0],[0,0,0,0,0,0,1,0],[0,0,1,0,0,0,0,0]],\n",
    "      [[0,0,0,1,0,0,0,0],[0,0,1,0,0,0,0,0],[0,0,1,0,0,0,0,0],[0,0,1,0,0,0,0,0]],\n",
    "      [[0,0,0,0,0,0,1,0],[1,0,0,0,0,0,0,0],[0,0,0,0,0,1,0,0],[0,1,0,0,0,0,0,0]],\n",
    "      [[0,0,0,0,1,0,0,0],[0,1,0,0,0,0,0,0],[0,0,0,0,0,0,0,1],[1,0,0,0,0,0,0,0]],\n",
    "      [[0,0,1,0,0,0,0,0],[0,0,0,0,0,0,1,0],[1,0,0,0,0,0,0,0],[0,0,0,0,0,1,0,0]]]"
   ]
  },
  {
   "cell_type": "code",
   "execution_count": 3,
   "id": "8b9a43bb",
   "metadata": {},
   "outputs": [],
   "source": [
    "CL = [[[0,0,0,1,0,0,0,0],[0,0,1,0,0,0,0,0],[0,1,0,0,0,0,0,0],[0,1,0,0,0,0,0,0]],\n",
    "      [[0,0,1,0,0,0,0,0],[0,1,0,0,0,0,0,0],[0,0,1,0,0,0,0,0],[0,1,0,0,0,0,0,0]],\n",
    "      [[0,0,0,0,1,0,0,0],[0,0,1,0,0,0,0,0],[0,0,0,0,0,1,0,0],[1,0,0,0,0,0,0,0]],\n",
    "      [[0,1,0,0,0,0,0,0],[0,0,1,0,0,0,0,0],[0,1,0,0,0,0,0,0],[0,0,1,0,0,0,0,0]],\n",
    "      [[0,1,0,0,0,0,0,0],[0,0,1,0,0,0,0,0],[0,0,1,0,0,0,0,0],[0,1,0,0,0,0,0,0]],\n",
    "      [[0,0,1,0,0,0,0,0],[0,1,0,0,0,0,0,0],[0,1,0,0,0,0,0,0],[0,0,1,0,0,0,0,0]],\n",
    "      [[0,0,0,0,0,0,0,1],[1,0,0,0,0,0,0,0],[0,0,0,0,0,1,0,0],[0,0,1,0,0,0,0,0]],\n",
    "      [[0,1,0,0,0,0,0,0],[0,0,1,0,0,0,0,0],[0,0,1,0,0,0,0,0],[0,0,1,0,0,0,0,0]],\n",
    "      [[0,1,0,0,0,0,0,0],[0,0,0,1,0,0,0,0],[0,1,0,0,0,0,0,0],[0,0,1,0,0,0,0,0]],\n",
    "      [[1,0,0,0,0,0,0,0],[0,0,0,0,0,0,0,1],[0,1,0,0,0,0,0,0],[0,0,0,0,1,0,0,0]],\n",
    "      [[0,0,0,1,0,0,0,0],[0,1,0,0,0,0,0,0],[0,1,0,0,0,0,0,0],[0,0,0,1,0,0,0,0]],\n",
    "      [[0,0,0,0,1,0,0,0],[1,0,0,0,0,0,0,0],[0,0,0,0,0,0,1,0],[0,0,1,0,0,0,0,0]],\n",
    "      [[0,0,0,0,1,0,0,0],[1,0,0,0,0,0,0,0],[0,0,0,0,0,0,1,0],[0,1,0,0,0,0,0,0]],\n",
    "      [[1,0,0,0,0,0,0,0],[0,0,0,0,0,0,0,1],[0,1,0,0,0,0,0,0],[0,0,0,0,0,0,0,1]],\n",
    "      [[0,1,0,0,0,0,0,0],[0,1,0,0,0,0,0,0],[0,1,0,0,0,0,0,0],[0,0,1,0,0,0,0,0]],\n",
    "      [[1,0,0,0,0,0,0,0],[1,0,0,0,0,0,0,0],[0,0,0,0,0,1,0,0],[0,0,0,0,0,1,0,0]],\n",
    "      [[0,1,0,0,0,0,0,0],[0,1,0,0,0,0,0,0],[0,1,0,0,0,0,0,0],[0,0,1,0,0,0,0,0]],\n",
    "      [[0,0,1,0,0,0,0,0],[0,1,0,0,0,0,0,0],[0,1,0,0,0,0,0,0],[0,0,1,0,0,0,0,0]],\n",
    "      [[0,0,0,0,0,0,1,0],[1,0,0,0,0,0,0,0],[0,0,0,0,1,0,0,0],[0,0,1,0,0,0,0,0]],\n",
    "      [[0,1,0,0,0,0,0,0],[0,0,0,1,0,0,0,0],[0,0,1,0,0,0,0,0],[0,0,1,0,0,0,0,0]],\n",
    "      [[0,0,0,0,0,1,0,0],[1,0,0,0,0,0,0,0],[1,0,0,0,0,0,0,0],[0,0,0,0,0,0,0,1]],\n",
    "      [[1,0,0,0,0,0,0,0],[0,0,0,0,0,0,1,0],[0,0,0,0,0,0,0,1],[1,0,0,0,0,0,0,0]],\n",
    "      [[0,0,0,0,0,1,0,0],[0,0,0,0,0,1,0,0],[1,0,0,0,0,0,0,0],[1,0,0,0,0,0,0,0]],\n",
    "      [[1,0,0,0,0,0,0,0],[0,0,0,0,1,0,0,0],[0,0,1,0,0,0,0,0],[0,0,0,0,1,0,0,0]],\n",
    "      [[0,0,1,0,0,0,0,0],[0,1,0,0,0,0,0,0],[0,0,1,0,0,0,0,0],[0,0,1,0,0,0,0,0]],\n",
    "      [[1,0,0,0,0,0,0,0],[0,0,0,0,0,0,1,0],[0,0,1,0,0,0,0,0],[0,0,0,0,0,1,0,0]],\n",
    "      [[1,0,0,0,0,0,0,0],[0,0,0,0,1,0,0,0],[0,1,0,0,0,0,0,0],[0,0,0,0,0,0,1,0]],\n",
    "      [[0,0,0,0,0,0,0,1],[0,0,1,0,0,0,0,0],[0,0,0,0,1,0,0,0],[1,0,0,0,0,0,0,0]],\n",
    "      [[0,1,0,0,0,0,0,0],[0,0,0,1,0,0,0,0],[0,1,0,0,0,0,0,0],[0,0,1,0,0,0,0,0]],\n",
    "      [[0,0,0,1,0,0,0,0],[0,0,1,0,0,0,0,0],[0,0,1,0,0,0,0,0],[0,1,0,0,0,0,0,0]],\n",
    "      [[1,0,0,0,0,0,0,0],[0,0,0,0,0,0,0,1],[0,0,1,0,0,0,0,0],[0,0,0,0,0,0,1,0]],\n",
    "      [[1,0,0,0,0,0,0,0],[0,0,0,0,0,0,1,0],[0,0,1,0,0,0,0,0],[0,0,0,0,0,0,0,1]],\n",
    "      [[0,0,1,0,0,0,0,0],[0,0,1,0,0,0,0,0],[0,0,1,0,0,0,0,0],[0,0,0,1,0,0,0,0]],\n",
    "      [[1,0,0,0,0,0,0,0],[0,0,0,0,0,1,0,0],[0,1,0,0,0,0,0,0],[0,0,0,0,0,0,1,0]],\n",
    "      [[0,1,0,0,0,0,0,0],[0,0,0,0,0,0,0,1],[1,0,0,0,0,0,0,0],[0,0,0,0,1,0,0,0]],\n",
    "      [[0,0,0,0,0,0,1,0],[1,0,0,0,0,0,0,0],[0,0,0,0,0,1,0,0],[0,0,1,0,0,0,0,0]]]"
   ]
  },
  {
   "cell_type": "code",
   "execution_count": 4,
   "id": "c96f7ed5",
   "metadata": {},
   "outputs": [],
   "source": [
    "CB = [[[0,0,1,0,0,0,0,0],[0,1,0,0,0,0,0,0],[0,1,0,0,0,0,0,0],[0,0,0,1,0,0,0,0]],\n",
    "      [[0,1,0,0,0,0,0,0],[0,0,1,0,0,0,0,0],[0,1,0,0,0,0,0,0],[0,0,1,0,0,0,0,0]],\n",
    "      [[0,0,1,0,0,0,0,0],[0,0,0,0,0,1,0,0],[1,0,0,0,0,0,0,0],[0,0,0,0,1,0,0,0]],\n",
    "      [[0,0,1,0,0,0,0,0],[0,1,0,0,0,0,0,0],[0,0,1,0,0,0,0,0],[0,1,0,0,0,0,0,0]],\n",
    "      [[0,0,1,0,0,0,0,0],[0,0,1,0,0,0,0,0],[0,1,0,0,0,0,0,0],[0,1,0,0,0,0,0,0]],\n",
    "      [[0,1,0,0,0,0,0,0],[0,1,0,0,0,0,0,0],[0,0,1,0,0,0,0,0],[0,0,1,0,0,0,0,0]],\n",
    "      [[1,0,0,0,0,0,0,0],[0,0,0,0,0,1,0,0],[0,0,1,0,0,0,0,0],[0,0,0,0,0,0,0,1]],\n",
    "      [[0,0,1,0,0,0,0,0],[0,0,1,0,0,0,0,0],[0,0,1,0,0,0,0,0],[0,1,0,0,0,0,0,0]],\n",
    "      [[0,0,0,1,0,0,0,0],[0,1,0,0,0,0,0,0],[0,0,1,0,0,0,0,0],[0,1,0,0,0,0,0,0]],\n",
    "      [[0,0,0,0,0,0,0,1],[0,1,0,0,0,0,0,0],[0,0,0,0,1,0,0,0],[1,0,0,0,0,0,0,0]],\n",
    "      [[0,1,0,0,0,0,0,0],[0,1,0,0,0,0,0,0],[0,0,0,1,0,0,0,0],[0,0,0,1,0,0,0,0]],\n",
    "      [[1,0,0,0,0,0,0,0],[0,0,0,0,0,0,1,0],[0,0,1,0,0,0,0,0],[0,0,0,0,1,0,0,0]],\n",
    "      [[1,0,0,0,0,0,0,0],[0,0,0,0,0,0,1,0],[0,1,0,0,0,0,0,0],[0,0,0,0,1,0,0,0]],\n",
    "      [[0,0,0,0,0,0,0,1],[0,1,0,0,0,0,0,0],[0,0,0,0,0,0,0,1],[1,0,0,0,0,0,0,0]],\n",
    "      [[0,1,0,0,0,0,0,0],[0,1,0,0,0,0,0,0],[0,0,1,0,0,0,0,0],[0,1,0,0,0,0,0,0]],\n",
    "      [[1,0,0,0,0,0,0,0],[0,0,0,0,0,1,0,0],[0,0,0,0,0,1,0,0],[1,0,0,0,0,0,0,0]],\n",
    "      [[0,1,0,0,0,0,0,0],[0,1,0,0,0,0,0,0],[0,0,1,0,0,0,0,0],[0,1,0,0,0,0,0,0]],\n",
    "      [[0,1,0,0,0,0,0,0],[0,1,0,0,0,0,0,0],[0,0,1,0,0,0,0,0],[0,0,1,0,0,0,0,0]],\n",
    "      [[1,0,0,0,0,0,0,0],[0,0,0,0,1,0,0,0],[0,0,1,0,0,0,0,0],[0,0,0,0,0,0,1,0]],\n",
    "      [[0,0,0,1,0,0,0,0],[0,0,1,0,0,0,0,0],[0,0,1,0,0,0,0,0],[0,1,0,0,0,0,0,0]],\n",
    "      [[1,0,0,0,0,0,0,0],[1,0,0,0,0,0,0,0],[0,0,0,0,0,0,0,1],[0,0,0,0,0,1,0,0]],\n",
    "      [[0,0,0,0,0,0,1,0],[0,0,0,0,0,0,0,1],[1,0,0,0,0,0,0,0],[1,0,0,0,0,0,0,0]],\n",
    "      [[0,0,0,0,0,1,0,0],[1,0,0,0,0,0,0,0],[1,0,0,0,0,0,0,0],[0,0,0,0,0,1,0,0]],\n",
    "      [[0,0,0,0,1,0,0,0],[0,0,1,0,0,0,0,0],[0,0,0,0,1,0,0,0],[1,0,0,0,0,0,0,0]],\n",
    "      [[0,1,0,0,0,0,0,0],[0,0,1,0,0,0,0,0],[0,0,1,0,0,0,0,0],[0,0,1,0,0,0,0,0]],\n",
    "      [[0,0,0,0,0,0,1,0],[0,0,1,0,0,0,0,0],[0,0,0,0,0,1,0,0],[1,0,0,0,0,0,0,0]],\n",
    "      [[0,0,0,0,1,0,0,0],[0,1,0,0,0,0,0,0],[0,0,0,0,0,0,1,0],[1,0,0,0,0,0,0,0]],\n",
    "      [[0,0,1,0,0,0,0,0],[0,0,0,0,1,0,0,0],[1,0,0,0,0,0,0,0],[0,0,0,0,0,0,0,1]],\n",
    "      [[0,0,0,1,0,0,0,0],[0,1,0,0,0,0,0,0],[0,0,1,0,0,0,0,0],[0,1,0,0,0,0,0,0]],\n",
    "      [[0,0,1,0,0,0,0,0],[0,0,1,0,0,0,0,0],[0,1,0,0,0,0,0,0],[0,0,0,1,0,0,0,0]],\n",
    "      [[0,0,0,0,0,0,0,1],[0,0,1,0,0,0,0,0],[0,0,0,0,0,0,1,0],[1,0,0,0,0,0,0,0]],\n",
    "      [[0,0,0,0,0,0,1,0],[0,0,1,0,0,0,0,0],[0,0,0,0,0,0,0,1],[1,0,0,0,0,0,0,0]],\n",
    "      [[0,0,1,0,0,0,0,0],[0,0,1,0,0,0,0,0],[0,0,0,1,0,0,0,0],[0,0,1,0,0,0,0,0]],\n",
    "      [[0,0,0,0,0,1,0,0],[0,1,0,0,0,0,0,0],[0,0,0,0,0,0,1,0],[1,0,0,0,0,0,0,0]],\n",
    "      [[0,0,0,0,0,0,0,1],[1,0,0,0,0,0,0,0],[0,0,0,0,1,0,0,0],[0,1,0,0,0,0,0,0]],\n",
    "      [[1,0,0,0,0,0,0,0],[0,0,0,0,0,1,0,0],[0,0,1,0,0,0,0,0],[0,0,0,0,0,0,1,0]]]"
   ]
  },
  {
   "cell_type": "code",
   "execution_count": 5,
   "id": "ccdeadea",
   "metadata": {},
   "outputs": [],
   "source": [
    "CR = [[[0,1,0,0,0,0,0,0],[0,1,0,0,0,0,0,0],[0,0,0,1,0,0,0,0],[0,0,1,0,0,0,0,0]],\n",
    "      [[0,0,1,0,0,0,0,0],[0,1,0,0,0,0,0,0],[0,0,1,0,0,0,0,0],[0,1,0,0,0,0,0,0]],\n",
    "      [[0,0,0,0,0,1,0,0],[1,0,0,0,0,0,0,0],[0,0,0,0,1,0,0,0],[0,0,1,0,0,0,0,0]],\n",
    "      [[0,1,0,0,0,0,0,0],[0,0,1,0,0,0,0,0],[0,1,0,0,0,0,0,0],[0,0,1,0,0,0,0,0]],\n",
    "      [[0,0,1,0,0,0,0,0],[0,1,0,0,0,0,0,0],[0,1,0,0,0,0,0,0],[0,0,1,0,0,0,0,0]],\n",
    "      [[0,1,0,0,0,0,0,0],[0,0,1,0,0,0,0,0],[0,0,1,0,0,0,0,0],[0,1,0,0,0,0,0,0]],\n",
    "      [[0,0,0,0,0,1,0,0],[0,0,1,0,0,0,0,0],[0,0,0,0,0,0,0,1],[1,0,0,0,0,0,0,0]],\n",
    "      [[0,0,1,0,0,0,0,0],[0,0,1,0,0,0,0,0],[0,1,0,0,0,0,0,0],[0,0,1,0,0,0,0,0]],\n",
    "      [[0,1,0,0,0,0,0,0],[0,0,1,0,0,0,0,0],[0,1,0,0,0,0,0,0],[0,0,0,1,0,0,0,0]],\n",
    "      [[0,1,0,0,0,0,0,0],[0,0,0,0,1,0,0,0],[1,0,0,0,0,0,0,0],[0,0,0,0,0,0,0,1]],\n",
    "      [[0,1,0,0,0,0,0,0],[0,0,0,1,0,0,0,0],[0,0,0,1,0,0,0,0],[0,1,0,0,0,0,0,0]],\n",
    "      [[0,0,0,0,0,0,1,0],[0,0,1,0,0,0,0,0],[0,0,0,0,1,0,0,0],[1,0,0,0,0,0,0,0]],\n",
    "      [[0,0,0,0,0,0,1,0],[0,1,0,0,0,0,0,0],[0,0,0,0,1,0,0,0],[1,0,0,0,0,0,0,0]],\n",
    "      [[0,1,0,0,0,0,0,0],[0,0,0,0,0,0,0,1],[1,0,0,0,0,0,0,0],[0,0,0,0,0,0,0,1]],\n",
    "      [[0,1,0,0,0,0,0,0],[0,0,1,0,0,0,0,0],[0,1,0,0,0,0,0,0],[0,1,0,0,0,0,0,0]],\n",
    "      [[0,0,0,0,0,1,0,0],[0,0,0,0,0,1,0,0],[1,0,0,0,0,0,0,0],[1,0,0,0,0,0,0,0]],\n",
    "      [[0,1,0,0,0,0,0,0],[0,0,1,0,0,0,0,0],[0,1,0,0,0,0,0,0],[0,1,0,0,0,0,0,0]],\n",
    "      [[0,1,0,0,0,0,0,0],[0,0,1,0,0,0,0,0],[0,0,1,0,0,0,0,0],[0,1,0,0,0,0,0,0]],\n",
    "      [[0,0,0,0,1,0,0,0],[0,0,1,0,0,0,0,0],[0,0,0,0,0,0,1,0],[1,0,0,0,0,0,0,0]],\n",
    "      [[0,0,1,0,0,0,0,0],[0,0,1,0,0,0,0,0],[0,1,0,0,0,0,0,0],[0,0,0,1,0,0,0,0]],\n",
    "      [[1,0,0,0,0,0,0,0],[0,0,0,0,0,0,0,1],[0,0,0,0,0,1,0,0],[1,0,0,0,0,0,0,0]],\n",
    "      [[0,0,0,0,0,0,0,1],[1,0,0,0,0,0,0,0],[1,0,0,0,0,0,0,0],[0,0,0,0,0,0,1,0]],\n",
    "      [[1,0,0,0,0,0,0,0],[1,0,0,0,0,0,0,0],[0,0,0,0,0,1,0,0],[0,0,0,0,0,1,0,0]],\n",
    "      [[0,0,1,0,0,0,0,0],[0,0,0,0,1,0,0,0],[1,0,0,0,0,0,0,0],[0,0,0,0,1,0,0,0]],\n",
    "      [[0,0,1,0,0,0,0,0],[0,0,1,0,0,0,0,0],[0,0,1,0,0,0,0,0],[0,1,0,0,0,0,0,0]],\n",
    "      [[0,0,1,0,0,0,0,0],[0,0,0,0,0,1,0,0],[1,0,0,0,0,0,0,0],[0,0,0,0,0,0,1,0]],\n",
    "      [[0,1,0,0,0,0,0,0],[0,0,0,0,0,0,1,0],[1,0,0,0,0,0,0,0],[0,0,0,0,1,0,0,0]],\n",
    "      [[0,0,0,0,1,0,0,0],[1,0,0,0,0,0,0,0],[0,0,0,0,0,0,0,1],[0,0,1,0,0,0,0,0]],\n",
    "      [[0,1,0,0,0,0,0,0],[0,0,1,0,0,0,0,0],[0,1,0,0,0,0,0,0],[0,0,0,1,0,0,0,0]],\n",
    "      [[0,0,1,0,0,0,0,0],[0,1,0,0,0,0,0,0],[0,0,0,1,0,0,0,0],[0,0,1,0,0,0,0,0]],\n",
    "      [[0,0,1,0,0,0,0,0],[0,0,0,0,0,0,1,0],[1,0,0,0,0,0,0,0],[0,0,0,0,0,0,0,1]],\n",
    "      [[0,0,1,0,0,0,0,0],[0,0,0,0,0,0,0,1],[1,0,0,0,0,0,0,0],[0,0,0,0,0,0,1,0]],\n",
    "      [[0,0,1,0,0,0,0,0],[0,0,0,1,0,0,0,0],[0,0,1,0,0,0,0,0],[0,0,1,0,0,0,0,0]],\n",
    "      [[0,1,0,0,0,0,0,0],[0,0,0,0,0,0,1,0],[1,0,0,0,0,0,0,0],[0,0,0,0,0,1,0,0]],\n",
    "      [[1,0,0,0,0,0,0,0],[0,0,0,0,1,0,0,0],[0,1,0,0,0,0,0,0],[0,0,0,0,0,0,0,1]],\n",
    "      [[0,0,0,0,0,1,0,0],[0,0,1,0,0,0,0,0],[0,0,0,0,0,0,1,0],[1,0,0,0,0,0,0,0]]]"
   ]
  },
  {
   "cell_type": "code",
   "execution_count": 6,
   "id": "280e652d",
   "metadata": {},
   "outputs": [],
   "source": [
    "x = lp.new_variable(binary=True)\n",
    "h = lp.new_variable(binary=True)\n",
    "v = lp.new_variable(binary=True)"
   ]
  },
  {
   "cell_type": "code",
   "execution_count": 7,
   "id": "8921a26e",
   "metadata": {},
   "outputs": [],
   "source": [
    "lp.set_objective(sum(sum(h[r,c] for c in range(5)) for r in range(6)) + sum(sum(v[r,c] for c in range(6)) for r in range(5)))"
   ]
  },
  {
   "cell_type": "code",
   "execution_count": 8,
   "id": "fe9fc427",
   "metadata": {},
   "outputs": [
    {
     "name": "stdout",
     "output_type": "stream",
     "text": [
      "Minimization:\n",
      "  x_0 + x_1 + x_2 + x_3 + x_4 + x_5 + x_6 + x_7 + x_8 + x_9 + x_10 + x_11 + x_12 + x_13 + x_14 + x_15 + x_16 + x_17 + x_18 + x_19 + x_20 + x_21 + x_22 + x_23 + x_24 + x_25 + x_26 + x_27 + x_28 + x_29 + x_30 + x_31 + x_32 + x_33 + x_34 + x_35 + x_36 + x_37 + x_38 + x_39 + x_40 + x_41 + x_42 + x_43 + x_44 + x_45 + x_46 + x_47 + x_48 + x_49 + x_50 + x_51 + x_52 + x_53 + x_54 + x_55 + x_56 + x_57 + x_58 + x_59 \n",
      "\n",
      "Constraints:\n",
      "Variables:\n",
      "  x_0 is a boolean variable (min=0.0, max=1.0)\n",
      "  x_1 is a boolean variable (min=0.0, max=1.0)\n",
      "  x_2 is a boolean variable (min=0.0, max=1.0)\n",
      "  x_3 is a boolean variable (min=0.0, max=1.0)\n",
      "  x_4 is a boolean variable (min=0.0, max=1.0)\n",
      "  x_5 is a boolean variable (min=0.0, max=1.0)\n",
      "  x_6 is a boolean variable (min=0.0, max=1.0)\n",
      "  x_7 is a boolean variable (min=0.0, max=1.0)\n",
      "  x_8 is a boolean variable (min=0.0, max=1.0)\n",
      "  x_9 is a boolean variable (min=0.0, max=1.0)\n",
      "  x_10 is a boolean variable (min=0.0, max=1.0)\n",
      "  x_11 is a boolean variable (min=0.0, max=1.0)\n",
      "  x_12 is a boolean variable (min=0.0, max=1.0)\n",
      "  x_13 is a boolean variable (min=0.0, max=1.0)\n",
      "  x_14 is a boolean variable (min=0.0, max=1.0)\n",
      "  x_15 is a boolean variable (min=0.0, max=1.0)\n",
      "  x_16 is a boolean variable (min=0.0, max=1.0)\n",
      "  x_17 is a boolean variable (min=0.0, max=1.0)\n",
      "  x_18 is a boolean variable (min=0.0, max=1.0)\n",
      "  x_19 is a boolean variable (min=0.0, max=1.0)\n",
      "  x_20 is a boolean variable (min=0.0, max=1.0)\n",
      "  x_21 is a boolean variable (min=0.0, max=1.0)\n",
      "  x_22 is a boolean variable (min=0.0, max=1.0)\n",
      "  x_23 is a boolean variable (min=0.0, max=1.0)\n",
      "  x_24 is a boolean variable (min=0.0, max=1.0)\n",
      "  x_25 is a boolean variable (min=0.0, max=1.0)\n",
      "  x_26 is a boolean variable (min=0.0, max=1.0)\n",
      "  x_27 is a boolean variable (min=0.0, max=1.0)\n",
      "  x_28 is a boolean variable (min=0.0, max=1.0)\n",
      "  x_29 is a boolean variable (min=0.0, max=1.0)\n",
      "  x_30 is a boolean variable (min=0.0, max=1.0)\n",
      "  x_31 is a boolean variable (min=0.0, max=1.0)\n",
      "  x_32 is a boolean variable (min=0.0, max=1.0)\n",
      "  x_33 is a boolean variable (min=0.0, max=1.0)\n",
      "  x_34 is a boolean variable (min=0.0, max=1.0)\n",
      "  x_35 is a boolean variable (min=0.0, max=1.0)\n",
      "  x_36 is a boolean variable (min=0.0, max=1.0)\n",
      "  x_37 is a boolean variable (min=0.0, max=1.0)\n",
      "  x_38 is a boolean variable (min=0.0, max=1.0)\n",
      "  x_39 is a boolean variable (min=0.0, max=1.0)\n",
      "  x_40 is a boolean variable (min=0.0, max=1.0)\n",
      "  x_41 is a boolean variable (min=0.0, max=1.0)\n",
      "  x_42 is a boolean variable (min=0.0, max=1.0)\n",
      "  x_43 is a boolean variable (min=0.0, max=1.0)\n",
      "  x_44 is a boolean variable (min=0.0, max=1.0)\n",
      "  x_45 is a boolean variable (min=0.0, max=1.0)\n",
      "  x_46 is a boolean variable (min=0.0, max=1.0)\n",
      "  x_47 is a boolean variable (min=0.0, max=1.0)\n",
      "  x_48 is a boolean variable (min=0.0, max=1.0)\n",
      "  x_49 is a boolean variable (min=0.0, max=1.0)\n",
      "  x_50 is a boolean variable (min=0.0, max=1.0)\n",
      "  x_51 is a boolean variable (min=0.0, max=1.0)\n",
      "  x_52 is a boolean variable (min=0.0, max=1.0)\n",
      "  x_53 is a boolean variable (min=0.0, max=1.0)\n",
      "  x_54 is a boolean variable (min=0.0, max=1.0)\n",
      "  x_55 is a boolean variable (min=0.0, max=1.0)\n",
      "  x_56 is a boolean variable (min=0.0, max=1.0)\n",
      "  x_57 is a boolean variable (min=0.0, max=1.0)\n",
      "  x_58 is a boolean variable (min=0.0, max=1.0)\n",
      "  x_59 is a boolean variable (min=0.0, max=1.0)\n"
     ]
    }
   ],
   "source": [
    "lp.show()"
   ]
  },
  {
   "cell_type": "code",
   "execution_count": 9,
   "id": "51a45542",
   "metadata": {},
   "outputs": [],
   "source": [
    "for t in range(36):\n",
    "    lp.add_constraint(sum(sum(sum(x[t,r,c,a] for a in range(4)) for c in range(6)) for r in range(6)) == 1)"
   ]
  },
  {
   "cell_type": "code",
   "execution_count": 10,
   "id": "ba6f7d9f",
   "metadata": {},
   "outputs": [],
   "source": [
    "for r in range(6):\n",
    "    for c in range(6):\n",
    "        lp.add_constraint(sum(sum(x[t,r,c,a] for a in range(4)) for t in range(36)) == 1)"
   ]
  },
  {
   "cell_type": "code",
   "execution_count": 11,
   "id": "eb7f4d29",
   "metadata": {},
   "outputs": [],
   "source": [
    "for r in range(6):\n",
    "    for c in range(5):\n",
    "        for l in range(7):\n",
    "            lp.add_constraint(sum(sum(CR[t][a][l]*x[t,r,c,a] for a in range(4)) for t in range(36)) \n",
    "                              - sum(sum(CL[t][a][l]*x[t,r,c+1,a] for a in range(4)) for t in range(36)) <= h[r,c])"
   ]
  },
  {
   "cell_type": "code",
   "execution_count": 12,
   "id": "f67c56f9",
   "metadata": {},
   "outputs": [],
   "source": [
    "for r in range(6):\n",
    "    for c in range(5):\n",
    "        for l in range(7):\n",
    "            lp.add_constraint(- sum(sum(CR[t][a][l]*x[t,r,c,a] for a in range(4)) for t in range(36)) \n",
    "                              + sum(sum(CL[t][a][l]*x[t,r,c+1,a] for a in range(4)) for t in range(36)) <= h[r,c])"
   ]
  },
  {
   "cell_type": "code",
   "execution_count": 13,
   "id": "0327f0b4",
   "metadata": {},
   "outputs": [],
   "source": [
    "for r in range(5):\n",
    "    for c in range(6):\n",
    "        for l in range(7):\n",
    "            lp.add_constraint(sum(sum(CB[t][a][l]*x[t,r,c,a] for a in range(4)) for t in range(36)) \n",
    "                              - sum(sum(CT[t][a][l]*x[t,r+1,c,a] for a in range(4)) for t in range(36)) <= v[r,c])"
   ]
  },
  {
   "cell_type": "code",
   "execution_count": 14,
   "id": "c9443020",
   "metadata": {},
   "outputs": [],
   "source": [
    "for r in range(5):\n",
    "    for c in range(6):\n",
    "        for l in range(7):\n",
    "            lp.add_constraint(- sum(sum(CB[t][a][l]*x[t,r,c,a] for a in range(4)) for t in range(36)) \n",
    "                              + sum(sum(CT[t][a][l]*x[t,r+1,c,a] for a in range(4)) for t in range(36)) <= v[r,c])"
   ]
  },
  {
   "cell_type": "code",
   "execution_count": 15,
   "id": "0d314f6c",
   "metadata": {},
   "outputs": [],
   "source": [
    "for c in range(6):\n",
    "    lp.add_constraint(sum(sum(CT[t][a][0]*x[t,0,c,a] for a in range(4)) for t in range(36)) == 1)"
   ]
  },
  {
   "cell_type": "code",
   "execution_count": 16,
   "id": "d4346f16",
   "metadata": {},
   "outputs": [],
   "source": [
    "for c in range(6):\n",
    "    lp.add_constraint(sum(sum(CB[t][a][0]*x[t,5,c,a] for a in range(4)) for t in range(36)) == 1)"
   ]
  },
  {
   "cell_type": "code",
   "execution_count": 17,
   "id": "d1c287d2",
   "metadata": {},
   "outputs": [],
   "source": [
    "for r in range(6):\n",
    "    lp.add_constraint(sum(sum(CL[t][a][0]*x[t,r,0,a] for a in range(4)) for t in range(36)) == 1)"
   ]
  },
  {
   "cell_type": "code",
   "execution_count": 18,
   "id": "3c38dfa2",
   "metadata": {},
   "outputs": [],
   "source": [
    "for r in range(6):\n",
    "    lp.add_constraint(sum(sum(CR[t][a][0]*x[t,r,5,a] for a in range(4)) for t in range(36)) == 1)"
   ]
  },
  {
   "cell_type": "code",
   "execution_count": 19,
   "id": "6e388c0a",
   "metadata": {},
   "outputs": [
    {
     "data": {
      "text/plain": [
       "0.0"
      ]
     },
     "execution_count": 19,
     "metadata": {},
     "output_type": "execute_result"
    }
   ],
   "source": [
    "lp.solve()"
   ]
  },
  {
   "cell_type": "code",
   "execution_count": 20,
   "id": "6047e842",
   "metadata": {},
   "outputs": [
    {
     "name": "stdout",
     "output_type": "stream",
     "text": [
      "(0, 2, 2, 0)\n",
      "(1, 1, 2, 0)\n",
      "(2, 1, 0, 3)\n",
      "(3, 4, 4, 1)\n",
      "(4, 2, 4, 2)\n",
      "(5, 4, 2, 2)\n",
      "(6, 4, 0, 1)\n",
      "(7, 3, 2, 3)\n",
      "(8, 3, 4, 1)\n",
      "(9, 2, 0, 0)\n",
      "(10, 2, 1, 1)\n",
      "(11, 5, 3, 0)\n",
      "(12, 0, 2, 2)\n",
      "(13, 3, 0, 0)\n",
      "(14, 3, 1, 1)\n",
      "(15, 0, 0, 1)\n",
      "(16, 2, 3, 1)\n",
      "(17, 4, 1, 3)\n",
      "(18, 5, 2, 0)\n",
      "(19, 1, 3, 3)\n",
      "(20, 5, 0, 1)\n",
      "(21, 0, 5, 1)\n",
      "(22, 5, 5, 1)\n",
      "(23, 0, 3, 1)\n",
      "(24, 4, 3, 2)\n",
      "(25, 4, 5, 2)\n",
      "(26, 0, 4, 1)\n",
      "(27, 1, 5, 1)\n",
      "(28, 3, 3, 3)\n",
      "(29, 1, 4, 0)\n",
      "(30, 3, 5, 2)\n",
      "(31, 5, 1, 3)\n",
      "(32, 1, 1, 2)\n",
      "(33, 5, 4, 3)\n",
      "(34, 2, 5, 0)\n",
      "(35, 0, 1, 2)\n"
     ]
    }
   ],
   "source": [
    "solution = lp.get_values(x)\n",
    "for i in solution:\n",
    "    if solution[i] == 1.0:\n",
    "        print(i)"
   ]
  },
  {
   "cell_type": "markdown",
   "id": "33f49562",
   "metadata": {},
   "source": [
    "W ostatniej komórce otrzymaliśmy rozwiązanie układanki. Jak to odczytywać? Otrzymane listy długości $4$ to indeksy przy zmiennych $x_{t,r,c,a}$. Łatwo zauważyć, że pierwsza współrzędna przyjmuje wszystkie wartości od $0$ do $35$ oraz są to różne wartości. Czyli tak jak chcieliśmy, dostaliśmy w wyniku $36$ kafelków, które są różne. Przy odrobinie większym skupieniu zauważamy, że pary złożone z drugiej i trzeciej współrzędnej są parami różne od siebie wartości oraz każda ze współrzędnych przyjmuje wartości od $0$ do $5$. Te współrzędne to odpowiednio numer wiersza i kolumny w układance, na którym znajduje się $t$-ty kafelek. Przypominam, że indeksujemy od zera. Ostatnia współrzędna mówi, jak obrócony jest kafelek. I tak na przykład pierwszy element w otrzymanym wyniku mówi, że pierwszy kafelek z obrazka z moodle, tzn. kafelek, który w chwili początkowej znajduje się w lewym górnym rogu znajduje się w ułożonej układance w drugim wierszu i drugiej kolumnie (indeksując od zera) i jest nieobrócony."
   ]
  },
  {
   "cell_type": "markdown",
   "id": "c20db9e5",
   "metadata": {},
   "source": [
    "Szczegółowy obrazek przedstawiający wizualnie rozwiązanie układanki zostanie zaprezentowany na prezentacji podczas egzaminu."
   ]
  },
  {
   "cell_type": "code",
   "execution_count": null,
   "id": "71ab1a65",
   "metadata": {},
   "outputs": [],
   "source": []
  }
 ],
 "metadata": {
  "kernelspec": {
   "display_name": "SageMath 9.6",
   "language": "sage",
   "name": "sagemath"
  },
  "language_info": {
   "codemirror_mode": {
    "name": "ipython",
    "version": 3
   },
   "file_extension": ".py",
   "mimetype": "text/x-python",
   "name": "python",
   "nbconvert_exporter": "python",
   "pygments_lexer": "ipython3",
   "version": "3.9.13"
  }
 },
 "nbformat": 4,
 "nbformat_minor": 5
}
